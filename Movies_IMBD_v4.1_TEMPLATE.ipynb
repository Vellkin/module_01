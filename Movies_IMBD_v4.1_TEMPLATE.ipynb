{
 "cells": [
  {
   "cell_type": "code",
   "execution_count": 52,
   "metadata": {
    "_cell_guid": "b1076dfc-b9ad-4769-8c92-a6c4dae69d19",
    "_uuid": "8f2839f25d086af736a60e9eeb907d3b93b6e0e5",
    "colab": {},
    "colab_type": "code",
    "id": "U2D2gTdJVp90"
   },
   "outputs": [],
   "source": [
    "import numpy as np\n",
    "import pandas as pd\n",
    "import seaborn as sns\n",
    "import matplotlib.pyplot as plt\n",
    "from collections import Counter"
   ]
  },
  {
   "cell_type": "code",
   "execution_count": 53,
   "metadata": {
    "_cell_guid": "79c7e3d0-c299-4dcb-8224-4455121ee9b0",
    "_uuid": "d629ff2d2480ee46fbb7e2d37f6b5fab8052498a",
    "colab": {},
    "colab_type": "code",
    "id": "oyGfxL3eVp9-"
   },
   "outputs": [
    {
     "data": {
      "text/html": [
       "<div>\n",
       "<style scoped>\n",
       "    .dataframe tbody tr th:only-of-type {\n",
       "        vertical-align: middle;\n",
       "    }\n",
       "\n",
       "    .dataframe tbody tr th {\n",
       "        vertical-align: top;\n",
       "    }\n",
       "\n",
       "    .dataframe thead th {\n",
       "        text-align: right;\n",
       "    }\n",
       "</style>\n",
       "<table border=\"1\" class=\"dataframe\">\n",
       "  <thead>\n",
       "    <tr style=\"text-align: right;\">\n",
       "      <th></th>\n",
       "      <th>imdb_id</th>\n",
       "      <th>budget</th>\n",
       "      <th>revenue</th>\n",
       "      <th>original_title</th>\n",
       "      <th>cast</th>\n",
       "      <th>director</th>\n",
       "      <th>tagline</th>\n",
       "      <th>overview</th>\n",
       "      <th>runtime</th>\n",
       "      <th>genres</th>\n",
       "      <th>production_companies</th>\n",
       "      <th>release_date</th>\n",
       "      <th>vote_average</th>\n",
       "      <th>release_year</th>\n",
       "    </tr>\n",
       "  </thead>\n",
       "  <tbody>\n",
       "    <tr>\n",
       "      <th>262</th>\n",
       "      <td>tt0844471</td>\n",
       "      <td>100000000</td>\n",
       "      <td>242988466</td>\n",
       "      <td>Cloudy with a Chance of Meatballs</td>\n",
       "      <td>Bill Hader|Anna Faris|James Caan|Mr. T|Benjami...</td>\n",
       "      <td>Phil Lord|Christopher Miller</td>\n",
       "      <td>Prepare to get served.</td>\n",
       "      <td>Inventor Flint Lockwood creates a machine that...</td>\n",
       "      <td>90</td>\n",
       "      <td>Animation|Comedy|Family</td>\n",
       "      <td>Columbia Pictures|Sony Pictures Animation</td>\n",
       "      <td>9/17/2009</td>\n",
       "      <td>6.4</td>\n",
       "      <td>2009</td>\n",
       "    </tr>\n",
       "    <tr>\n",
       "      <th>222</th>\n",
       "      <td>tt1647668</td>\n",
       "      <td>25000000</td>\n",
       "      <td>38307627</td>\n",
       "      <td>Million Dollar Arm</td>\n",
       "      <td>Jon Hamm|Bill Paxton|Lake Bell|Suraj Sharma|Aa...</td>\n",
       "      <td>Craig Gillespie</td>\n",
       "      <td>Sometimes to win, sometimes you have to change...</td>\n",
       "      <td>In a last-ditch effort to save his career, spo...</td>\n",
       "      <td>124</td>\n",
       "      <td>Drama</td>\n",
       "      <td>Walt Disney Pictures</td>\n",
       "      <td>5/9/2014</td>\n",
       "      <td>6.6</td>\n",
       "      <td>2014</td>\n",
       "    </tr>\n",
       "    <tr>\n",
       "      <th>807</th>\n",
       "      <td>tt1402488</td>\n",
       "      <td>130000000</td>\n",
       "      <td>150406466</td>\n",
       "      <td>Happy Feet Two</td>\n",
       "      <td>Elijah Wood|Robin Williams|Pink|E.G. Daily|Joh...</td>\n",
       "      <td>George Miller</td>\n",
       "      <td>Every step counts.</td>\n",
       "      <td>Mumble the penguin has a problem: his son Erik...</td>\n",
       "      <td>100</td>\n",
       "      <td>Music|Family|Animation|Comedy</td>\n",
       "      <td>Village Roadshow Pictures|Warner Bros.|Dr D St...</td>\n",
       "      <td>11/17/2011</td>\n",
       "      <td>5.8</td>\n",
       "      <td>2011</td>\n",
       "    </tr>\n",
       "    <tr>\n",
       "      <th>495</th>\n",
       "      <td>tt1028576</td>\n",
       "      <td>35000000</td>\n",
       "      <td>60251371</td>\n",
       "      <td>Secretariat</td>\n",
       "      <td>Diane Lane|John Malkovich|Scott Glenn|Dylan Wa...</td>\n",
       "      <td>Randall Wallace</td>\n",
       "      <td>The Impossible True Story</td>\n",
       "      <td>Housewife and mother Penny Chenery agrees to t...</td>\n",
       "      <td>123</td>\n",
       "      <td>Drama</td>\n",
       "      <td>Walt Disney Pictures|Fast Track Productions|Ma...</td>\n",
       "      <td>8/20/2010</td>\n",
       "      <td>6.6</td>\n",
       "      <td>2010</td>\n",
       "    </tr>\n",
       "    <tr>\n",
       "      <th>520</th>\n",
       "      <td>tt0277371</td>\n",
       "      <td>16000000</td>\n",
       "      <td>66468332</td>\n",
       "      <td>Not Another Teen Movie</td>\n",
       "      <td>Chyler Leigh|Chris Evans|Jaime Pressly|Eric Ch...</td>\n",
       "      <td>Joel Gallen</td>\n",
       "      <td>They served you Breakfast. They gave you Pie. ...</td>\n",
       "      <td>On a bet, a gridiron hero at John Hughes High ...</td>\n",
       "      <td>89</td>\n",
       "      <td>Comedy</td>\n",
       "      <td>Original Film|Columbia Pictures Corporation|Ne...</td>\n",
       "      <td>12/7/2001</td>\n",
       "      <td>5.3</td>\n",
       "      <td>2001</td>\n",
       "    </tr>\n",
       "  </tbody>\n",
       "</table>\n",
       "</div>"
      ],
      "text/plain": [
       "       imdb_id     budget    revenue                     original_title  \\\n",
       "262  tt0844471  100000000  242988466  Cloudy with a Chance of Meatballs   \n",
       "222  tt1647668   25000000   38307627                 Million Dollar Arm   \n",
       "807  tt1402488  130000000  150406466                     Happy Feet Two   \n",
       "495  tt1028576   35000000   60251371                        Secretariat   \n",
       "520  tt0277371   16000000   66468332             Not Another Teen Movie   \n",
       "\n",
       "                                                  cast  \\\n",
       "262  Bill Hader|Anna Faris|James Caan|Mr. T|Benjami...   \n",
       "222  Jon Hamm|Bill Paxton|Lake Bell|Suraj Sharma|Aa...   \n",
       "807  Elijah Wood|Robin Williams|Pink|E.G. Daily|Joh...   \n",
       "495  Diane Lane|John Malkovich|Scott Glenn|Dylan Wa...   \n",
       "520  Chyler Leigh|Chris Evans|Jaime Pressly|Eric Ch...   \n",
       "\n",
       "                         director  \\\n",
       "262  Phil Lord|Christopher Miller   \n",
       "222               Craig Gillespie   \n",
       "807                 George Miller   \n",
       "495               Randall Wallace   \n",
       "520                   Joel Gallen   \n",
       "\n",
       "                                               tagline  \\\n",
       "262                             Prepare to get served.   \n",
       "222  Sometimes to win, sometimes you have to change...   \n",
       "807                                 Every step counts.   \n",
       "495                          The Impossible True Story   \n",
       "520  They served you Breakfast. They gave you Pie. ...   \n",
       "\n",
       "                                              overview  runtime  \\\n",
       "262  Inventor Flint Lockwood creates a machine that...       90   \n",
       "222  In a last-ditch effort to save his career, spo...      124   \n",
       "807  Mumble the penguin has a problem: his son Erik...      100   \n",
       "495  Housewife and mother Penny Chenery agrees to t...      123   \n",
       "520  On a bet, a gridiron hero at John Hughes High ...       89   \n",
       "\n",
       "                            genres  \\\n",
       "262        Animation|Comedy|Family   \n",
       "222                          Drama   \n",
       "807  Music|Family|Animation|Comedy   \n",
       "495                          Drama   \n",
       "520                         Comedy   \n",
       "\n",
       "                                  production_companies release_date  \\\n",
       "262          Columbia Pictures|Sony Pictures Animation    9/17/2009   \n",
       "222                               Walt Disney Pictures     5/9/2014   \n",
       "807  Village Roadshow Pictures|Warner Bros.|Dr D St...   11/17/2011   \n",
       "495  Walt Disney Pictures|Fast Track Productions|Ma...    8/20/2010   \n",
       "520  Original Film|Columbia Pictures Corporation|Ne...    12/7/2001   \n",
       "\n",
       "     vote_average  release_year  \n",
       "262           6.4          2009  \n",
       "222           6.6          2014  \n",
       "807           5.8          2011  \n",
       "495           6.6          2010  \n",
       "520           5.3          2001  "
      ]
     },
     "execution_count": 53,
     "metadata": {},
     "output_type": "execute_result"
    }
   ],
   "source": [
    "data = pd.read_csv('movie_bd_v5.csv')\n",
    "data.sample(5)"
   ]
  },
  {
   "cell_type": "code",
   "execution_count": 54,
   "metadata": {
    "colab": {},
    "colab_type": "code",
    "id": "CoYUnagMVp-C"
   },
   "outputs": [
    {
     "data": {
      "text/html": [
       "<div>\n",
       "<style scoped>\n",
       "    .dataframe tbody tr th:only-of-type {\n",
       "        vertical-align: middle;\n",
       "    }\n",
       "\n",
       "    .dataframe tbody tr th {\n",
       "        vertical-align: top;\n",
       "    }\n",
       "\n",
       "    .dataframe thead th {\n",
       "        text-align: right;\n",
       "    }\n",
       "</style>\n",
       "<table border=\"1\" class=\"dataframe\">\n",
       "  <thead>\n",
       "    <tr style=\"text-align: right;\">\n",
       "      <th></th>\n",
       "      <th>budget</th>\n",
       "      <th>revenue</th>\n",
       "      <th>runtime</th>\n",
       "      <th>vote_average</th>\n",
       "      <th>release_year</th>\n",
       "    </tr>\n",
       "  </thead>\n",
       "  <tbody>\n",
       "    <tr>\n",
       "      <th>count</th>\n",
       "      <td>1.889000e+03</td>\n",
       "      <td>1.889000e+03</td>\n",
       "      <td>1889.000000</td>\n",
       "      <td>1889.000000</td>\n",
       "      <td>1889.000000</td>\n",
       "    </tr>\n",
       "    <tr>\n",
       "      <th>mean</th>\n",
       "      <td>5.431083e+07</td>\n",
       "      <td>1.553653e+08</td>\n",
       "      <td>109.658549</td>\n",
       "      <td>6.140762</td>\n",
       "      <td>2007.860773</td>\n",
       "    </tr>\n",
       "    <tr>\n",
       "      <th>std</th>\n",
       "      <td>4.858721e+07</td>\n",
       "      <td>2.146698e+08</td>\n",
       "      <td>18.017041</td>\n",
       "      <td>0.764763</td>\n",
       "      <td>4.468841</td>\n",
       "    </tr>\n",
       "    <tr>\n",
       "      <th>min</th>\n",
       "      <td>5.000000e+06</td>\n",
       "      <td>2.033165e+06</td>\n",
       "      <td>63.000000</td>\n",
       "      <td>3.300000</td>\n",
       "      <td>2000.000000</td>\n",
       "    </tr>\n",
       "    <tr>\n",
       "      <th>25%</th>\n",
       "      <td>2.000000e+07</td>\n",
       "      <td>3.456058e+07</td>\n",
       "      <td>97.000000</td>\n",
       "      <td>5.600000</td>\n",
       "      <td>2004.000000</td>\n",
       "    </tr>\n",
       "    <tr>\n",
       "      <th>50%</th>\n",
       "      <td>3.800000e+07</td>\n",
       "      <td>8.361541e+07</td>\n",
       "      <td>107.000000</td>\n",
       "      <td>6.100000</td>\n",
       "      <td>2008.000000</td>\n",
       "    </tr>\n",
       "    <tr>\n",
       "      <th>75%</th>\n",
       "      <td>7.200000e+07</td>\n",
       "      <td>1.782626e+08</td>\n",
       "      <td>120.000000</td>\n",
       "      <td>6.600000</td>\n",
       "      <td>2012.000000</td>\n",
       "    </tr>\n",
       "    <tr>\n",
       "      <th>max</th>\n",
       "      <td>3.800000e+08</td>\n",
       "      <td>2.781506e+09</td>\n",
       "      <td>214.000000</td>\n",
       "      <td>8.100000</td>\n",
       "      <td>2015.000000</td>\n",
       "    </tr>\n",
       "  </tbody>\n",
       "</table>\n",
       "</div>"
      ],
      "text/plain": [
       "             budget       revenue      runtime  vote_average  release_year\n",
       "count  1.889000e+03  1.889000e+03  1889.000000   1889.000000   1889.000000\n",
       "mean   5.431083e+07  1.553653e+08   109.658549      6.140762   2007.860773\n",
       "std    4.858721e+07  2.146698e+08    18.017041      0.764763      4.468841\n",
       "min    5.000000e+06  2.033165e+06    63.000000      3.300000   2000.000000\n",
       "25%    2.000000e+07  3.456058e+07    97.000000      5.600000   2004.000000\n",
       "50%    3.800000e+07  8.361541e+07   107.000000      6.100000   2008.000000\n",
       "75%    7.200000e+07  1.782626e+08   120.000000      6.600000   2012.000000\n",
       "max    3.800000e+08  2.781506e+09   214.000000      8.100000   2015.000000"
      ]
     },
     "execution_count": 54,
     "metadata": {},
     "output_type": "execute_result"
    }
   ],
   "source": [
    "data.describe()"
   ]
  },
  {
   "cell_type": "markdown",
   "metadata": {
    "colab_type": "text",
    "id": "DTIt7ezGVp-G"
   },
   "source": [
    "# Предобработка"
   ]
  },
  {
   "cell_type": "code",
   "execution_count": 55,
   "metadata": {
    "colab": {},
    "colab_type": "code",
    "id": "jNb40DwKVp-H"
   },
   "outputs": [],
   "source": [
    "answers = {} # создадим словарь для ответов\n",
    "\n",
    "# тут другие ваши предобработки колонок например:\n",
    "\n",
    "#the time given in the dataset is in string format.\n",
    "#So we need to change this in datetime format\n",
    "# ...\n",
    "profit = data.revenue - data.budget\n",
    "data1 = pd.concat([data,profit],axis = 1)\n",
    "data1 = data1.rename(columns={data1.columns[-1]:'profit'})\n",
    "# добавил в data столбец profit,сохранил новый датафрэйм\n",
    "# в переменной data1"
   ]
  },
  {
   "cell_type": "markdown",
   "metadata": {
    "colab_type": "text",
    "id": "YxZaH-nPVp-L"
   },
   "source": [
    "# 1. У какого фильма из списка самый большой бюджет?"
   ]
  },
  {
   "cell_type": "markdown",
   "metadata": {
    "colab_type": "text",
    "id": "Nd-G5gX6Vp-M"
   },
   "source": [
    "Использовать варианты ответов в коде решения запрещено.    \n",
    "Вы думаете и в жизни у вас будут варианты ответов?)"
   ]
  },
  {
   "cell_type": "code",
   "execution_count": 56,
   "metadata": {
    "colab": {},
    "colab_type": "code",
    "id": "uVnXAY5RVp-O"
   },
   "outputs": [],
   "source": [
    "# в словарь вставляем номер вопроса и ваш ответ на него\n",
    "# Пример: \n",
    "answers['1'] = '2. Spider-Man 3 (tt0413300)'\n",
    "# запишите свой вариант ответа\n",
    "answers['1'] = 'Pirates of the Caribbean: On Stranger Tides (tt1298650)'\n",
    "# +\n",
    "# если ответили верно, можете добавить комментарий со значком \"+\""
   ]
  },
  {
   "cell_type": "code",
   "execution_count": 6,
   "metadata": {
    "colab": {},
    "colab_type": "code",
    "id": "dZwb3m28Vp-S"
   },
   "outputs": [
    {
     "data": {
      "text/plain": [
       "723    Pirates of the Caribbean: On Stranger Tides\n",
       "Name: original_title, dtype: object"
      ]
     },
     "execution_count": 6,
     "metadata": {},
     "output_type": "execute_result"
    }
   ],
   "source": [
    "data[data['budget'] == data['budget'].max()].original_title"
   ]
  },
  {
   "cell_type": "markdown",
   "metadata": {
    "colab_type": "text",
    "id": "K7L3nbRXVp-X"
   },
   "source": [
    "ВАРИАНТ 2"
   ]
  },
  {
   "cell_type": "code",
   "execution_count": 0,
   "metadata": {
    "colab": {},
    "colab_type": "code",
    "id": "OGaoQI7rVp-X"
   },
   "outputs": [],
   "source": [
    "# можно добавлять разные варианты решения"
   ]
  },
  {
   "cell_type": "markdown",
   "metadata": {
    "colab_type": "text",
    "id": "FNRbbI3vVp-c"
   },
   "source": [
    "# 2. Какой из фильмов самый длительный (в минутах)?"
   ]
  },
  {
   "cell_type": "code",
   "execution_count": 57,
   "metadata": {
    "colab": {},
    "colab_type": "code",
    "id": "vHAoEXNTVp-d"
   },
   "outputs": [],
   "source": [
    "# думаю логику работы с этим словарем вы уже поняли, \n",
    "# по этому не буду больше его дублировать\n",
    "answers['2'] = 'Gods and Generals (tt0279111)'\n",
    "# +"
   ]
  },
  {
   "cell_type": "code",
   "execution_count": 8,
   "metadata": {
    "colab": {},
    "colab_type": "code",
    "id": "ot-VX2XrVp-g"
   },
   "outputs": [
    {
     "data": {
      "text/plain": [
       "1157    Gods and Generals\n",
       "Name: original_title, dtype: object"
      ]
     },
     "execution_count": 8,
     "metadata": {},
     "output_type": "execute_result"
    }
   ],
   "source": [
    "data[data['runtime'] == data['runtime'].max()].original_title"
   ]
  },
  {
   "cell_type": "markdown",
   "metadata": {
    "colab_type": "text",
    "id": "bapLlpW8Vp-k"
   },
   "source": [
    "# 3. Какой из фильмов самый короткий (в минутах)?\n",
    "\n",
    "\n",
    "\n"
   ]
  },
  {
   "cell_type": "code",
   "execution_count": 58,
   "metadata": {
    "colab": {},
    "colab_type": "code",
    "id": "YBxaSHuAVp-l"
   },
   "outputs": [
    {
     "data": {
      "text/plain": [
       "768    Winnie the Pooh\n",
       "Name: original_title, dtype: object"
      ]
     },
     "execution_count": 58,
     "metadata": {},
     "output_type": "execute_result"
    }
   ],
   "source": [
    "answers['3'] = 'Winnie the Pooh (tt1449283)'\n",
    "# +\n",
    "data[data['runtime'] == data['runtime'].min()].original_title"
   ]
  },
  {
   "cell_type": "markdown",
   "metadata": {
    "colab_type": "text",
    "id": "TfQbxbfNVp-p"
   },
   "source": [
    "# 4. Какова средняя длительность фильмов?\n"
   ]
  },
  {
   "cell_type": "code",
   "execution_count": 59,
   "metadata": {
    "colab": {},
    "colab_type": "code",
    "id": "5K6dKZYVVp-q"
   },
   "outputs": [
    {
     "data": {
      "text/plain": [
       "109.6585494970884"
      ]
     },
     "execution_count": 59,
     "metadata": {},
     "output_type": "execute_result"
    }
   ],
   "source": [
    "answers['4'] = '110'\n",
    "# +\n",
    "data.runtime.mean()"
   ]
  },
  {
   "cell_type": "markdown",
   "metadata": {
    "colab_type": "text",
    "id": "r5TvbnT_Vp-u"
   },
   "source": [
    "# 5. Каково медианное значение длительности фильмов? "
   ]
  },
  {
   "cell_type": "code",
   "execution_count": 60,
   "metadata": {
    "colab": {},
    "colab_type": "code",
    "id": "iBROplKnVp-v"
   },
   "outputs": [
    {
     "data": {
      "text/plain": [
       "107.0"
      ]
     },
     "execution_count": 60,
     "metadata": {},
     "output_type": "execute_result"
    }
   ],
   "source": [
    "answers['5'] = '107'\n",
    "# +\n",
    "data.runtime.median()"
   ]
  },
  {
   "cell_type": "markdown",
   "metadata": {
    "colab_type": "text",
    "id": "39P-deDSVp-y"
   },
   "source": [
    "# 6. Какой самый прибыльный фильм?\n",
    "#### Внимание! Здесь и далее под «прибылью» или «убытками» понимается разность между сборами и бюджетом фильма. (прибыль = сборы - бюджет) в нашем датасете это будет (profit = revenue - budget) "
   ]
  },
  {
   "cell_type": "code",
   "execution_count": 61,
   "metadata": {
    "colab": {},
    "colab_type": "code",
    "id": "UYZh4T9WVp-y"
   },
   "outputs": [
    {
     "data": {
      "text/plain": [
       "239    Avatar\n",
       "Name: original_title, dtype: object"
      ]
     },
     "execution_count": 61,
     "metadata": {},
     "output_type": "execute_result"
    }
   ],
   "source": [
    "answers['6'] = 'Avatar (tt0499549)'\n",
    "# +\n",
    "data = pd.read_csv('movie_bd_v5.csv')\n",
    "profit = data.revenue - data.budget\n",
    "data1 = pd.concat([data,profit],axis = 1)\n",
    "data1 = data1.rename(columns={data1.columns[-1]:'profit'})\n",
    "data1[data1['profit'] == data1['profit'].max()].original_title"
   ]
  },
  {
   "cell_type": "markdown",
   "metadata": {
    "colab_type": "text",
    "id": "M99JmIX4Vp-2"
   },
   "source": [
    "# 7. Какой фильм самый убыточный? "
   ]
  },
  {
   "cell_type": "code",
   "execution_count": 62,
   "metadata": {
    "colab": {},
    "colab_type": "code",
    "id": "w-D2m4XPVp-3"
   },
   "outputs": [
    {
     "data": {
      "text/plain": [
       "1245    The Lone Ranger\n",
       "Name: original_title, dtype: object"
      ]
     },
     "execution_count": 62,
     "metadata": {},
     "output_type": "execute_result"
    }
   ],
   "source": [
    "answers['7'] = 'The Lone Ranger (tt1210819)'\n",
    "# +\n",
    "data1[data1['profit'] == data1['profit'].min()].original_title"
   ]
  },
  {
   "cell_type": "markdown",
   "metadata": {
    "colab_type": "text",
    "id": "wEOM5ERVVp-6"
   },
   "source": [
    "# 8. У скольких фильмов из датасета объем сборов оказался выше бюджета?"
   ]
  },
  {
   "cell_type": "code",
   "execution_count": 63,
   "metadata": {
    "colab": {},
    "colab_type": "code",
    "id": "y00_7HD6Vp-7"
   },
   "outputs": [
    {
     "data": {
      "text/plain": [
       "1478"
      ]
     },
     "execution_count": 63,
     "metadata": {},
     "output_type": "execute_result"
    }
   ],
   "source": [
    "answers['8'] = '1478'\n",
    "# +\n",
    "data[data['budget'] < data['revenue']].original_title.count()"
   ]
  },
  {
   "cell_type": "markdown",
   "metadata": {
    "colab_type": "text",
    "id": "xhpspA9KVp_A"
   },
   "source": [
    "# 9. Какой фильм оказался самым кассовым в 2008 году?"
   ]
  },
  {
   "cell_type": "code",
   "execution_count": 64,
   "metadata": {
    "colab": {},
    "colab_type": "code",
    "id": "MoUyQr9RVp_B"
   },
   "outputs": [
    {
     "data": {
      "text/plain": [
       "599    The Dark Knight\n",
       "Name: original_title, dtype: object"
      ]
     },
     "execution_count": 64,
     "metadata": {},
     "output_type": "execute_result"
    }
   ],
   "source": [
    "answers['9'] = 'The Dark Knight (tt0468569)'\n",
    "# +\n",
    "year_2008 = data1[(data1['release_year'] == 2008)].sort_values('revenue',ascending=False)\n",
    "# отсортировал фильмы 8-го года по убыванию 'revenue'\n",
    "year_2008[year_2008['revenue'] == year_2008['revenue'].max()].original_title"
   ]
  },
  {
   "cell_type": "markdown",
   "metadata": {
    "colab_type": "text",
    "id": "Zi4hDKidVp_F"
   },
   "source": [
    "# 10. Самый убыточный фильм за период с 2012 по 2014 г. (включительно)?\n"
   ]
  },
  {
   "cell_type": "code",
   "execution_count": 65,
   "metadata": {
    "colab": {},
    "colab_type": "code",
    "id": "XqyRmufJVp_F"
   },
   "outputs": [
    {
     "data": {
      "text/plain": [
       "1245    The Lone Ranger\n",
       "Name: original_title, dtype: object"
      ]
     },
     "execution_count": 65,
     "metadata": {},
     "output_type": "execute_result"
    }
   ],
   "source": [
    "answers['10'] = 'The Lone Ranger (tt1210819)'\n",
    "# +\n",
    "df = data1.query('release_year in [\"2012\",\"2013\",\"2014\"] & budget > revenue')\n",
    "# отобрал убыточные фильмы 12,13,14 годов,сохранил в df \n",
    "df[df['profit'] == df['profit'].min()].original_title"
   ]
  },
  {
   "cell_type": "markdown",
   "metadata": {
    "colab_type": "text",
    "id": "EA7Sa9dkVp_I"
   },
   "source": [
    "# 11. Какого жанра фильмов больше всего?"
   ]
  },
  {
   "cell_type": "code",
   "execution_count": 66,
   "metadata": {
    "colab": {},
    "colab_type": "code",
    "id": "zsJAwJ8QVp_J"
   },
   "outputs": [
    {
     "data": {
      "text/plain": [
       "'Drama'"
      ]
     },
     "execution_count": 66,
     "metadata": {},
     "output_type": "execute_result"
    }
   ],
   "source": [
    "answers['11'] = 'Drama'\n",
    "# +\n",
    "data = data.assign(genres = data.genres.str.split('|')).explode('genres')\n",
    "# разделил data.genres на отдельные жанры и изменил DataFrame \n",
    "# методом explode()преобразовав data.genres\n",
    "data.genres.value_counts().index[0]"
   ]
  },
  {
   "cell_type": "markdown",
   "metadata": {
    "colab_type": "text",
    "id": "Ax6g2C8SVp_M"
   },
   "source": [
    "ВАРИАНТ 2"
   ]
  },
  {
   "cell_type": "code",
   "execution_count": 28,
   "metadata": {
    "colab": {},
    "colab_type": "code",
    "id": "otO3SbrSVp_N"
   },
   "outputs": [
    {
     "data": {
      "text/plain": [
       "[('Drama', 782)]"
      ]
     },
     "execution_count": 28,
     "metadata": {},
     "output_type": "execute_result"
    }
   ],
   "source": [
    "data = data.assign(genres = data.genres.str.split('|')).explode('genres')\n",
    "Counter(data.genres).most_common(1)"
   ]
  },
  {
   "cell_type": "markdown",
   "metadata": {
    "colab_type": "text",
    "id": "T9_bPWpkVp_Q"
   },
   "source": [
    "# 12. Фильмы какого жанра чаще всего становятся прибыльными? "
   ]
  },
  {
   "cell_type": "code",
   "execution_count": 67,
   "metadata": {
    "colab": {},
    "colab_type": "code",
    "id": "Tmt8MaK1Vp_R"
   },
   "outputs": [
    {
     "data": {
      "text/plain": [
       "'Drama'"
      ]
     },
     "execution_count": 67,
     "metadata": {},
     "output_type": "execute_result"
    }
   ],
   "source": [
    "answers['12'] = 'Drama'\n",
    "# +\n",
    "data = data.assign(genres = data.genres.str.split('|')).explode('genres')\n",
    "data.query('budget < revenue').genres.value_counts().index[0]"
   ]
  },
  {
   "cell_type": "markdown",
   "metadata": {
    "colab_type": "text",
    "id": "0F23bgsDVp_U"
   },
   "source": [
    "# 13. У какого режиссера самые большие суммарные кассовые сборы?"
   ]
  },
  {
   "cell_type": "code",
   "execution_count": 68,
   "metadata": {
    "colab": {},
    "colab_type": "code",
    "id": "K6Z3J8ygVp_X"
   },
   "outputs": [
    {
     "data": {
      "text/plain": [
       "'Peter Jackson'"
      ]
     },
     "execution_count": 68,
     "metadata": {},
     "output_type": "execute_result"
    }
   ],
   "source": [
    "answers['13'] = 'Peter Jackson'\n",
    "# +\n",
    "data.groupby(['director']).sum().sort_values('revenue',ascending=False).index[0]\n",
    "# сгрупировал информацию по столбцу 'director' и применил sum()\n",
    "# затем отсортировал по убыванию и вывел первый index"
   ]
  },
  {
   "cell_type": "markdown",
   "metadata": {
    "colab_type": "text",
    "id": "PsYC9FgRVp_a"
   },
   "source": [
    "# 14. Какой режисер снял больше всего фильмов в стиле Action?"
   ]
  },
  {
   "cell_type": "code",
   "execution_count": 69,
   "metadata": {
    "colab": {},
    "colab_type": "code",
    "id": "wd2M-wHeVp_b"
   },
   "outputs": [
    {
     "data": {
      "text/plain": [
       "'Robert Rodriguez'"
      ]
     },
     "execution_count": 69,
     "metadata": {},
     "output_type": "execute_result"
    }
   ],
   "source": [
    "answers['14'] = 'Robert Rodriguez'\n",
    "# +\n",
    "data = data.assign(director = data.director.str.split('|')).explode('director')\n",
    "action_g = data[data.genres.str.match(\"Action\",na=False)] \n",
    "action_g.director.value_counts().index[0]"
   ]
  },
  {
   "cell_type": "markdown",
   "metadata": {
    "colab_type": "text",
    "id": "PQ0KciD7Vp_f"
   },
   "source": [
    "# 15. Фильмы с каким актером принесли самые высокие кассовые сборы в 2012 году? "
   ]
  },
  {
   "cell_type": "code",
   "execution_count": 70,
   "metadata": {
    "colab": {},
    "colab_type": "code",
    "id": "aga62oeKVp_g"
   },
   "outputs": [
    {
     "data": {
      "text/plain": [
       "'Chris Hemsworth'"
      ]
     },
     "execution_count": 70,
     "metadata": {},
     "output_type": "execute_result"
    }
   ],
   "source": [
    "answers['15'] = 'Chris Hemsworth'\n",
    "# +\n",
    "data = pd.read_csv('movie_bd_v5.csv')\n",
    "data = data.assign(cast = data.query('release_year == 2012').cast.str.split('|')).explode('cast')\n",
    "data.groupby(['cast'])[['revenue']].sum().sort_values('revenue',ascending=False).index[0]"
   ]
  },
  {
   "cell_type": "markdown",
   "metadata": {
    "colab_type": "text",
    "id": "mWHyyL7QVp_j"
   },
   "source": [
    "# 16. Какой актер снялся в большем количестве высокобюджетных фильмов?"
   ]
  },
  {
   "cell_type": "code",
   "execution_count": 71,
   "metadata": {
    "colab": {},
    "colab_type": "code",
    "id": "qQtmHKTFVp_k"
   },
   "outputs": [
    {
     "data": {
      "text/plain": [
       "'Matt Damon'"
      ]
     },
     "execution_count": 71,
     "metadata": {},
     "output_type": "execute_result"
    }
   ],
   "source": [
    "answers['16'] = 'Matt Damon'\n",
    "# +\n",
    "data = pd.read_csv('movie_bd_v5.csv')\n",
    "data = data.assign(cast = data.cast.str.split('|')).explode('cast')\n",
    "mean_bd = data[data['budget'] > data['budget'].mean()]\n",
    "mean_bd.groupby(['cast'])[['imdb_id']].count().sort_values(['imdb_id'],ascending=False).index[0]"
   ]
  },
  {
   "cell_type": "markdown",
   "metadata": {
    "colab_type": "text",
    "id": "NIh6AaW5Vp_n"
   },
   "source": [
    "# 17. В фильмах какого жанра больше всего снимался Nicolas Cage? "
   ]
  },
  {
   "cell_type": "code",
   "execution_count": 72,
   "metadata": {
    "colab": {},
    "colab_type": "code",
    "id": "H74SJDIBVp_n"
   },
   "outputs": [
    {
     "data": {
      "text/plain": [
       "'Action'"
      ]
     },
     "execution_count": 72,
     "metadata": {},
     "output_type": "execute_result"
    }
   ],
   "source": [
    "answers['17'] = 'Action'\n",
    "# +\n",
    "data = pd.read_csv('movie_bd_v5.csv')\n",
    "data = data.assign(genres = data.genres.str.split('|')).explode('genres')\n",
    "data = data.assign(cast = data.cast.str.split('|')).explode('cast')\n",
    "data[data.cast == 'Nicolas Cage'].genres.value_counts().index[0]\n"
   ]
  },
  {
   "cell_type": "markdown",
   "metadata": {
    "colab_type": "text",
    "id": "RqOmPRfWVp_q"
   },
   "source": [
    "# 18. Самый убыточный фильм от Paramount Pictures"
   ]
  },
  {
   "cell_type": "code",
   "execution_count": 73,
   "metadata": {
    "colab": {},
    "colab_type": "code",
    "id": "9E_B0Y96Vp_r"
   },
   "outputs": [
    {
     "data": {
      "text/plain": [
       "925    K-19: The Widowmaker\n",
       "Name: original_title, dtype: object"
      ]
     },
     "execution_count": 73,
     "metadata": {},
     "output_type": "execute_result"
    }
   ],
   "source": [
    "answers['18'] = 'K-19: The Widowmaker (tt0267626)'\n",
    "# +\n",
    "data = pd.read_csv('movie_bd_v5.csv')\n",
    "profit = data.revenue - data.budget\n",
    "data1 = pd.concat([data,profit],axis = 1)\n",
    "data1 = data1.rename(columns={data1.columns[-1]:'profit'})\n",
    "data1 = data1.assign(production_companies = data1.production_companies.str.split('|')).explode('production_companies')\n",
    "data2 = data1.query('production_companies == \"Paramount Pictures\"')\n",
    "data2[data2['profit'] == data2['profit'].min()].original_title\n"
   ]
  },
  {
   "cell_type": "markdown",
   "metadata": {
    "colab_type": "text",
    "id": "vS8Ur6ddVp_u"
   },
   "source": [
    "# 19. Какой год стал самым успешным по суммарным кассовым сборам?"
   ]
  },
  {
   "cell_type": "code",
   "execution_count": 74,
   "metadata": {
    "colab": {},
    "colab_type": "code",
    "id": "Dnbt4GdIVp_v"
   },
   "outputs": [
    {
     "data": {
      "text/plain": [
       "2015"
      ]
     },
     "execution_count": 74,
     "metadata": {},
     "output_type": "execute_result"
    }
   ],
   "source": [
    "answers['19'] = '2015'\n",
    "# +\n",
    "data = pd.read_csv('movie_bd_v5.csv')\n",
    "data.groupby(['release_year'])[['revenue']].sum().sort_values('revenue',ascending=False).index[0]"
   ]
  },
  {
   "cell_type": "markdown",
   "metadata": {
    "colab_type": "text",
    "id": "JAzJh4QAVp_z"
   },
   "source": [
    "# 20. Какой самый прибыльный год для студии Warner Bros?"
   ]
  },
  {
   "cell_type": "code",
   "execution_count": 75,
   "metadata": {
    "colab": {},
    "colab_type": "code",
    "id": "wgVu02DEVp_0"
   },
   "outputs": [
    {
     "data": {
      "text/plain": [
       "2014"
      ]
     },
     "execution_count": 75,
     "metadata": {},
     "output_type": "execute_result"
    }
   ],
   "source": [
    "answers['20'] = '2014'\n",
    "# +\n",
    "data = pd.read_csv('movie_bd_v5.csv')\n",
    "profit = data.revenue - data.budget\n",
    "data = pd.concat([data,profit],axis = 1)\n",
    "data = data.rename(columns={data.columns[-1]:'profit'})\n",
    "data = data.assign(production_companies = data.production_companies.str.split('|')).explode('production_companies')\n",
    "data = data[data.production_companies.str.match(\"Warner Bros\",na=False)]\n",
    "data.groupby(['release_year'])[['profit']].sum().sort_values('profit',ascending=False).index[0]"
   ]
  },
  {
   "cell_type": "markdown",
   "metadata": {
    "colab_type": "text",
    "id": "8Im1S2HRVp_4"
   },
   "source": [
    "# 21. В каком месяце за все годы суммарно вышло больше всего фильмов?"
   ]
  },
  {
   "cell_type": "code",
   "execution_count": 76,
   "metadata": {
    "colab": {},
    "colab_type": "code",
    "id": "lev6TH7gVp_4"
   },
   "outputs": [
    {
     "data": {
      "text/plain": [
       "9"
      ]
     },
     "execution_count": 76,
     "metadata": {},
     "output_type": "execute_result"
    }
   ],
   "source": [
    "answers['21'] = 'Сентябрь'\n",
    "# +\n",
    "data = pd.read_csv('movie_bd_v5.csv')\n",
    "data['release_date'] = pd.DatetimeIndex(data['release_date']).month\n",
    "data.release_date.value_counts().index[0]\n"
   ]
  },
  {
   "cell_type": "markdown",
   "metadata": {
    "colab_type": "text",
    "id": "uAJsZ_NeVp_7"
   },
   "source": [
    "# 22. Сколько суммарно вышло фильмов летом? (за июнь, июль, август)"
   ]
  },
  {
   "cell_type": "code",
   "execution_count": 77,
   "metadata": {
    "colab": {},
    "colab_type": "code",
    "id": "Aa-hEREoVp_8"
   },
   "outputs": [
    {
     "data": {
      "text/plain": [
       "450"
      ]
     },
     "execution_count": 77,
     "metadata": {},
     "output_type": "execute_result"
    }
   ],
   "source": [
    "answers['22'] = '450'\n",
    "# +\n",
    "data = pd.read_csv('movie_bd_v5.csv')\n",
    "data['release_date'] = pd.DatetimeIndex(data['release_date']).month\n",
    "data = data.query('release_date in [\"6\",\"7\",\"8\"]')\n",
    "data.imdb_id.count()\n"
   ]
  },
  {
   "cell_type": "markdown",
   "metadata": {
    "colab_type": "text",
    "id": "G94ppOY1VqAA"
   },
   "source": [
    "# 23. Для какого режиссера зима – самое продуктивное время года? "
   ]
  },
  {
   "cell_type": "code",
   "execution_count": 78,
   "metadata": {
    "colab": {},
    "colab_type": "code",
    "id": "RhNTsamuVqAB"
   },
   "outputs": [
    {
     "data": {
      "text/plain": [
       "'Peter Jackson'"
      ]
     },
     "execution_count": 78,
     "metadata": {},
     "output_type": "execute_result"
    }
   ],
   "source": [
    "answers['23'] = 'Peter Jackson'\n",
    "# +\n",
    "data = pd.read_csv('movie_bd_v5.csv')\n",
    "data['release_date'] = pd.DatetimeIndex(data['release_date']).month\n",
    "data = data.assign(director = data.director.str.split('|')).explode('director')\n",
    "data = data.query('release_date in [\"12\",\"1\",\"2\"]')\n",
    "data.director.value_counts().index[0]"
   ]
  },
  {
   "cell_type": "markdown",
   "metadata": {
    "colab_type": "text",
    "id": "RBo0JVjVVqAF"
   },
   "source": [
    "# 24. Какая студия дает самые длинные названия своим фильмам по количеству символов?"
   ]
  },
  {
   "cell_type": "code",
   "execution_count": 79,
   "metadata": {
    "colab": {},
    "colab_type": "code",
    "id": "QRGS8L0iVqAG"
   },
   "outputs": [
    {
     "data": {
      "text/plain": [
       "'Four By Two Productions'"
      ]
     },
     "execution_count": 79,
     "metadata": {},
     "output_type": "execute_result"
    }
   ],
   "source": [
    "answers['24'] = 'Four By Two Productions'\n",
    "# +\n",
    "data = pd.read_csv('movie_bd_v5.csv')\n",
    "data = data.assign(production_companies = data.production_companies.str.split('|')).explode('production_companies')\n",
    "def calculate(row):\n",
    "    rw = ''.join(row.split())\n",
    "    return len(rw)\n",
    "data['original_title'] = data['original_title'].apply(calculate)\n",
    "data.groupby(['production_companies'])[['original_title']].median().sort_values('original_title',ascending=False).index[0]"
   ]
  },
  {
   "cell_type": "markdown",
   "metadata": {
    "colab_type": "text",
    "id": "9G0hbvR7VqAK"
   },
   "source": [
    "# 25. Описание фильмов какой студии в среднем самые длинные по количеству слов?"
   ]
  },
  {
   "cell_type": "code",
   "execution_count": 80,
   "metadata": {
    "colab": {},
    "colab_type": "code",
    "id": "Ge2GsLNxVqAK"
   },
   "outputs": [
    {
     "data": {
      "text/plain": [
       "'Midnight Picture Show'"
      ]
     },
     "execution_count": 80,
     "metadata": {},
     "output_type": "execute_result"
    }
   ],
   "source": [
    "answers['25'] = 'Midnight Picture Show'\n",
    "# +\n",
    "data = pd.read_csv('movie_bd_v5.csv')\n",
    "data = data.assign(production_companies = data.production_companies.str.split('|')).explode('production_companies')\n",
    "def calculate_words(row):\n",
    "    rw = '|'.join(row.split())\n",
    "    return len(rw)\n",
    "data['overview'] = data['overview'].apply(calculate)\n",
    "data.groupby(['production_companies'])[['overview']].mean().sort_values('overview',ascending=False).index[0]"
   ]
  },
  {
   "cell_type": "markdown",
   "metadata": {
    "colab_type": "text",
    "id": "FJ1AFt90VqAP"
   },
   "source": [
    "# 26. Какие фильмы входят в 1 процент лучших по рейтингу? \n",
    "по vote_average"
   ]
  },
  {
   "cell_type": "code",
   "execution_count": 81,
   "metadata": {
    "colab": {},
    "colab_type": "code",
    "id": "8qmJVq4CVqAQ"
   },
   "outputs": [
    {
     "data": {
      "text/html": [
       "<div>\n",
       "<style scoped>\n",
       "    .dataframe tbody tr th:only-of-type {\n",
       "        vertical-align: middle;\n",
       "    }\n",
       "\n",
       "    .dataframe tbody tr th {\n",
       "        vertical-align: top;\n",
       "    }\n",
       "\n",
       "    .dataframe thead th {\n",
       "        text-align: right;\n",
       "    }\n",
       "</style>\n",
       "<table border=\"1\" class=\"dataframe\">\n",
       "  <thead>\n",
       "    <tr style=\"text-align: right;\">\n",
       "      <th></th>\n",
       "      <th></th>\n",
       "      <th>budget</th>\n",
       "      <th>revenue</th>\n",
       "      <th>overview</th>\n",
       "      <th>runtime</th>\n",
       "      <th>release_year</th>\n",
       "    </tr>\n",
       "    <tr>\n",
       "      <th>original_title</th>\n",
       "      <th>vote_average</th>\n",
       "      <th></th>\n",
       "      <th></th>\n",
       "      <th></th>\n",
       "      <th></th>\n",
       "      <th></th>\n",
       "    </tr>\n",
       "  </thead>\n",
       "  <tbody>\n",
       "    <tr>\n",
       "      <th>The Dark Knight</th>\n",
       "      <th>8.1</th>\n",
       "      <td>185000000</td>\n",
       "      <td>1001921825</td>\n",
       "      <td>330</td>\n",
       "      <td>152</td>\n",
       "      <td>2008</td>\n",
       "    </tr>\n",
       "    <tr>\n",
       "      <th>Room</th>\n",
       "      <th>8.0</th>\n",
       "      <td>6000000</td>\n",
       "      <td>35401758</td>\n",
       "      <td>195</td>\n",
       "      <td>117</td>\n",
       "      <td>2015</td>\n",
       "    </tr>\n",
       "    <tr>\n",
       "      <th>Interstellar</th>\n",
       "      <th>8.0</th>\n",
       "      <td>165000000</td>\n",
       "      <td>621752480</td>\n",
       "      <td>188</td>\n",
       "      <td>169</td>\n",
       "      <td>2014</td>\n",
       "    </tr>\n",
       "    <tr>\n",
       "      <th>Inside Out</th>\n",
       "      <th>8.0</th>\n",
       "      <td>175000000</td>\n",
       "      <td>853708609</td>\n",
       "      <td>527</td>\n",
       "      <td>94</td>\n",
       "      <td>2015</td>\n",
       "    </tr>\n",
       "    <tr>\n",
       "      <th>The Imitation Game</th>\n",
       "      <th>8.0</th>\n",
       "      <td>14000000</td>\n",
       "      <td>233555708</td>\n",
       "      <td>242</td>\n",
       "      <td>113</td>\n",
       "      <td>2014</td>\n",
       "    </tr>\n",
       "    <tr>\n",
       "      <th>Gone Girl</th>\n",
       "      <th>7.9</th>\n",
       "      <td>61000000</td>\n",
       "      <td>369330363</td>\n",
       "      <td>140</td>\n",
       "      <td>145</td>\n",
       "      <td>2014</td>\n",
       "    </tr>\n",
       "    <tr>\n",
       "      <th>12 Years a Slave</th>\n",
       "      <th>7.9</th>\n",
       "      <td>20000000</td>\n",
       "      <td>187000000</td>\n",
       "      <td>319</td>\n",
       "      <td>134</td>\n",
       "      <td>2013</td>\n",
       "    </tr>\n",
       "    <tr>\n",
       "      <th>Inception</th>\n",
       "      <th>7.9</th>\n",
       "      <td>160000000</td>\n",
       "      <td>825500000</td>\n",
       "      <td>237</td>\n",
       "      <td>148</td>\n",
       "      <td>2010</td>\n",
       "    </tr>\n",
       "    <tr>\n",
       "      <th>The Grand Budapest Hotel</th>\n",
       "      <th>7.9</th>\n",
       "      <td>30000000</td>\n",
       "      <td>174600318</td>\n",
       "      <td>337</td>\n",
       "      <td>99</td>\n",
       "      <td>2014</td>\n",
       "    </tr>\n",
       "    <tr>\n",
       "      <th>The Pianist</th>\n",
       "      <th>7.9</th>\n",
       "      <td>35000000</td>\n",
       "      <td>120072577</td>\n",
       "      <td>200</td>\n",
       "      <td>150</td>\n",
       "      <td>2002</td>\n",
       "    </tr>\n",
       "    <tr>\n",
       "      <th>Guardians of the Galaxy</th>\n",
       "      <th>7.9</th>\n",
       "      <td>170000000</td>\n",
       "      <td>773312399</td>\n",
       "      <td>137</td>\n",
       "      <td>121</td>\n",
       "      <td>2014</td>\n",
       "    </tr>\n",
       "    <tr>\n",
       "      <th>The Lord of the Rings: The Return of the King</th>\n",
       "      <th>7.9</th>\n",
       "      <td>94000000</td>\n",
       "      <td>1118888979</td>\n",
       "      <td>210</td>\n",
       "      <td>201</td>\n",
       "      <td>2003</td>\n",
       "    </tr>\n",
       "    <tr>\n",
       "      <th>The Wolf of Wall Street</th>\n",
       "      <th>7.9</th>\n",
       "      <td>100000000</td>\n",
       "      <td>392000694</td>\n",
       "      <td>172</td>\n",
       "      <td>180</td>\n",
       "      <td>2013</td>\n",
       "    </tr>\n",
       "    <tr>\n",
       "      <th>Memento</th>\n",
       "      <th>7.9</th>\n",
       "      <td>9000000</td>\n",
       "      <td>39723096</td>\n",
       "      <td>359</td>\n",
       "      <td>113</td>\n",
       "      <td>2000</td>\n",
       "    </tr>\n",
       "    <tr>\n",
       "      <th>The Lord of the Rings: The Two Towers</th>\n",
       "      <th>7.8</th>\n",
       "      <td>79000000</td>\n",
       "      <td>926287400</td>\n",
       "      <td>208</td>\n",
       "      <td>179</td>\n",
       "      <td>2002</td>\n",
       "    </tr>\n",
       "    <tr>\n",
       "      <th>Mr. Nobody</th>\n",
       "      <th>7.8</th>\n",
       "      <td>47000000</td>\n",
       "      <td>3547209</td>\n",
       "      <td>108</td>\n",
       "      <td>141</td>\n",
       "      <td>2009</td>\n",
       "    </tr>\n",
       "    <tr>\n",
       "      <th>The Theory of Everything</th>\n",
       "      <th>7.8</th>\n",
       "      <td>15000000</td>\n",
       "      <td>121201940</td>\n",
       "      <td>72</td>\n",
       "      <td>123</td>\n",
       "      <td>2014</td>\n",
       "    </tr>\n",
       "    <tr>\n",
       "      <th>3 Idiots</th>\n",
       "      <th>7.8</th>\n",
       "      <td>9000000</td>\n",
       "      <td>70000000</td>\n",
       "      <td>540</td>\n",
       "      <td>170</td>\n",
       "      <td>2009</td>\n",
       "    </tr>\n",
       "    <tr>\n",
       "      <th>The Lord of the Rings: The Fellowship of the Ring</th>\n",
       "      <th>7.8</th>\n",
       "      <td>93000000</td>\n",
       "      <td>871368364</td>\n",
       "      <td>289</td>\n",
       "      <td>178</td>\n",
       "      <td>2001</td>\n",
       "    </tr>\n",
       "  </tbody>\n",
       "</table>\n",
       "</div>"
      ],
      "text/plain": [
       "                                                                   budget  \\\n",
       "original_title                                    vote_average              \n",
       "The Dark Knight                                   8.1           185000000   \n",
       "Room                                              8.0             6000000   \n",
       "Interstellar                                      8.0           165000000   \n",
       "Inside Out                                        8.0           175000000   \n",
       "The Imitation Game                                8.0            14000000   \n",
       "Gone Girl                                         7.9            61000000   \n",
       "12 Years a Slave                                  7.9            20000000   \n",
       "Inception                                         7.9           160000000   \n",
       "The Grand Budapest Hotel                          7.9            30000000   \n",
       "The Pianist                                       7.9            35000000   \n",
       "Guardians of the Galaxy                           7.9           170000000   \n",
       "The Lord of the Rings: The Return of the King     7.9            94000000   \n",
       "The Wolf of Wall Street                           7.9           100000000   \n",
       "Memento                                           7.9             9000000   \n",
       "The Lord of the Rings: The Two Towers             7.8            79000000   \n",
       "Mr. Nobody                                        7.8            47000000   \n",
       "The Theory of Everything                          7.8            15000000   \n",
       "3 Idiots                                          7.8             9000000   \n",
       "The Lord of the Rings: The Fellowship of the Ring 7.8            93000000   \n",
       "\n",
       "                                                                   revenue  \\\n",
       "original_title                                    vote_average               \n",
       "The Dark Knight                                   8.1           1001921825   \n",
       "Room                                              8.0             35401758   \n",
       "Interstellar                                      8.0            621752480   \n",
       "Inside Out                                        8.0            853708609   \n",
       "The Imitation Game                                8.0            233555708   \n",
       "Gone Girl                                         7.9            369330363   \n",
       "12 Years a Slave                                  7.9            187000000   \n",
       "Inception                                         7.9            825500000   \n",
       "The Grand Budapest Hotel                          7.9            174600318   \n",
       "The Pianist                                       7.9            120072577   \n",
       "Guardians of the Galaxy                           7.9            773312399   \n",
       "The Lord of the Rings: The Return of the King     7.9           1118888979   \n",
       "The Wolf of Wall Street                           7.9            392000694   \n",
       "Memento                                           7.9             39723096   \n",
       "The Lord of the Rings: The Two Towers             7.8            926287400   \n",
       "Mr. Nobody                                        7.8              3547209   \n",
       "The Theory of Everything                          7.8            121201940   \n",
       "3 Idiots                                          7.8             70000000   \n",
       "The Lord of the Rings: The Fellowship of the Ring 7.8            871368364   \n",
       "\n",
       "                                                                overview  \\\n",
       "original_title                                    vote_average             \n",
       "The Dark Knight                                   8.1                330   \n",
       "Room                                              8.0                195   \n",
       "Interstellar                                      8.0                188   \n",
       "Inside Out                                        8.0                527   \n",
       "The Imitation Game                                8.0                242   \n",
       "Gone Girl                                         7.9                140   \n",
       "12 Years a Slave                                  7.9                319   \n",
       "Inception                                         7.9                237   \n",
       "The Grand Budapest Hotel                          7.9                337   \n",
       "The Pianist                                       7.9                200   \n",
       "Guardians of the Galaxy                           7.9                137   \n",
       "The Lord of the Rings: The Return of the King     7.9                210   \n",
       "The Wolf of Wall Street                           7.9                172   \n",
       "Memento                                           7.9                359   \n",
       "The Lord of the Rings: The Two Towers             7.8                208   \n",
       "Mr. Nobody                                        7.8                108   \n",
       "The Theory of Everything                          7.8                 72   \n",
       "3 Idiots                                          7.8                540   \n",
       "The Lord of the Rings: The Fellowship of the Ring 7.8                289   \n",
       "\n",
       "                                                                runtime  \\\n",
       "original_title                                    vote_average            \n",
       "The Dark Knight                                   8.1               152   \n",
       "Room                                              8.0               117   \n",
       "Interstellar                                      8.0               169   \n",
       "Inside Out                                        8.0                94   \n",
       "The Imitation Game                                8.0               113   \n",
       "Gone Girl                                         7.9               145   \n",
       "12 Years a Slave                                  7.9               134   \n",
       "Inception                                         7.9               148   \n",
       "The Grand Budapest Hotel                          7.9                99   \n",
       "The Pianist                                       7.9               150   \n",
       "Guardians of the Galaxy                           7.9               121   \n",
       "The Lord of the Rings: The Return of the King     7.9               201   \n",
       "The Wolf of Wall Street                           7.9               180   \n",
       "Memento                                           7.9               113   \n",
       "The Lord of the Rings: The Two Towers             7.8               179   \n",
       "Mr. Nobody                                        7.8               141   \n",
       "The Theory of Everything                          7.8               123   \n",
       "3 Idiots                                          7.8               170   \n",
       "The Lord of the Rings: The Fellowship of the Ring 7.8               178   \n",
       "\n",
       "                                                                release_year  \n",
       "original_title                                    vote_average                \n",
       "The Dark Knight                                   8.1                   2008  \n",
       "Room                                              8.0                   2015  \n",
       "Interstellar                                      8.0                   2014  \n",
       "Inside Out                                        8.0                   2015  \n",
       "The Imitation Game                                8.0                   2014  \n",
       "Gone Girl                                         7.9                   2014  \n",
       "12 Years a Slave                                  7.9                   2013  \n",
       "Inception                                         7.9                   2010  \n",
       "The Grand Budapest Hotel                          7.9                   2014  \n",
       "The Pianist                                       7.9                   2002  \n",
       "Guardians of the Galaxy                           7.9                   2014  \n",
       "The Lord of the Rings: The Return of the King     7.9                   2003  \n",
       "The Wolf of Wall Street                           7.9                   2013  \n",
       "Memento                                           7.9                   2000  \n",
       "The Lord of the Rings: The Two Towers             7.8                   2002  \n",
       "Mr. Nobody                                        7.8                   2009  \n",
       "The Theory of Everything                          7.8                   2014  \n",
       "3 Idiots                                          7.8                   2009  \n",
       "The Lord of the Rings: The Fellowship of the Ring 7.8                   2001  "
      ]
     },
     "metadata": {},
     "output_type": "display_data"
    }
   ],
   "source": [
    "answers['26'] = 'Inside Out, The Dark Knight, 12 Years a Slave'\n",
    "# +\n",
    "data1=data.groupby(['original_title', 'vote_average',]).mean().sort_values('vote_average',ascending=False)\n",
    "# сгрупировал DataFrame по названиям фильмов и рейтингу,\n",
    "# отсортировал по убыванию рейтинга\n",
    "data.original_title.count()/100\n",
    "# посчитал соклько фильмов в одном проценте DataFrame\n",
    "display(data1.head(19))\n",
    "# вывел 1 процент самых рейтинговых фильмов"
   ]
  },
  {
   "cell_type": "markdown",
   "metadata": {
    "colab_type": "text",
    "id": "MdXsUXbCVqAV"
   },
   "source": [
    "# 27. Какие актеры чаще всего снимаются в одном фильме вместе?\n"
   ]
  },
  {
   "cell_type": "code",
   "execution_count": 82,
   "metadata": {
    "colab_type": "text",
    "id": "4ymnxEVoVqAW"
   },
   "outputs": [
    {
     "data": {
      "text/plain": [
       "[(('Daniel Radcliffe', 'Rupert Grint'), 8)]"
      ]
     },
     "execution_count": 82,
     "metadata": {},
     "output_type": "execute_result"
    }
   ],
   "source": [
    "answers['27'] = 'Daniel Radcliffe & Rupert Grint'\n",
    "# +\n",
    "data = pd.read_csv('movie_bd_v5.csv')\n",
    "data['cast_one'] = data['cast'].str.split('|')\n",
    "# Разделяем data['cast'] по отдельным актерам\n",
    "from itertools import combinations\n",
    "data['cast_two']=data.cast_one.apply(lambda x:list(combinations(x,2)))\n",
    "# с помощью combinations создаём комбинации пар актёров\n",
    "# с помощью list превращаем комбинации в список\n",
    "# с помощью apply(lambda x:) создаем Series data['cast_two'] из этих комбинаций\n",
    "list_1 = data.cast_two.tolist()\n",
    "# с помощью tolist()приводим Series к типу данных списка \n",
    "# получается список из списков\n",
    "from itertools import chain \n",
    "list_2 = chain(*list_1)\n",
    "# с помощью chain() объединяем их в один список\n",
    "Counter(list_2).most_common(1)\n",
    "# считаем количество пар"
   ]
  },
  {
   "cell_type": "markdown",
   "metadata": {
    "colab_type": "text",
    "id": "U0nONFnGVqAX"
   },
   "source": [
    "# Submission"
   ]
  },
  {
   "cell_type": "code",
   "execution_count": 83,
   "metadata": {
    "colab": {},
    "colab_type": "code",
    "id": "IfcaRO9-VqAX",
    "outputId": "0f132912-32bb-4196-c98c-abfbc4ad5a5f"
   },
   "outputs": [
    {
     "data": {
      "text/plain": [
       "{'1': 'Pirates of the Caribbean: On Stranger Tides (tt1298650)',\n",
       " '2': 'Gods and Generals (tt0279111)',\n",
       " '3': 'Winnie the Pooh (tt1449283)',\n",
       " '4': '110',\n",
       " '5': '107',\n",
       " '6': 'Avatar (tt0499549)',\n",
       " '7': 'The Lone Ranger (tt1210819)',\n",
       " '8': '1478',\n",
       " '9': 'The Dark Knight (tt0468569)',\n",
       " '10': 'The Lone Ranger (tt1210819)',\n",
       " '11': 'Drama',\n",
       " '12': 'Drama',\n",
       " '13': 'Peter Jackson',\n",
       " '14': 'Robert Rodriguez',\n",
       " '15': 'Chris Hemsworth',\n",
       " '16': 'Matt Damon',\n",
       " '17': 'Action',\n",
       " '18': 'K-19: The Widowmaker (tt0267626)',\n",
       " '19': '2015',\n",
       " '20': '2014',\n",
       " '21': 'Сентябрь',\n",
       " '22': '450',\n",
       " '23': 'Peter Jackson',\n",
       " '24': 'Four By Two Productions',\n",
       " '25': 'Midnight Picture Show',\n",
       " '26': 'Inside Out, The Dark Knight, 12 Years a Slave',\n",
       " '27': 'Daniel Radcliffe & Rupert Grint'}"
      ]
     },
     "execution_count": 83,
     "metadata": {},
     "output_type": "execute_result"
    }
   ],
   "source": [
    "# в конце можно посмотреть свои ответы к каждому вопросу\n",
    "answers"
   ]
  },
  {
   "cell_type": "code",
   "execution_count": 84,
   "metadata": {
    "colab": {},
    "colab_type": "code",
    "id": "SiRmHPl8VqAd"
   },
   "outputs": [
    {
     "data": {
      "text/plain": [
       "27"
      ]
     },
     "execution_count": 84,
     "metadata": {},
     "output_type": "execute_result"
    }
   ],
   "source": [
    "# и убедиться что ни чего не пропустил)\n",
    "len(answers)"
   ]
  },
  {
   "cell_type": "code",
   "execution_count": null,
   "metadata": {},
   "outputs": [],
   "source": []
  }
 ],
 "metadata": {
  "colab": {
   "name": "Copy of [SF-DST] Movies IMBD v4.1 TEMPLATE.ipynb",
   "provenance": []
  },
  "kernelspec": {
   "display_name": "Python 3",
   "language": "python",
   "name": "python3"
  },
  "language_info": {
   "codemirror_mode": {
    "name": "ipython",
    "version": 3
   },
   "file_extension": ".py",
   "mimetype": "text/x-python",
   "name": "python",
   "nbconvert_exporter": "python",
   "pygments_lexer": "ipython3",
   "version": "3.8.5"
  }
 },
 "nbformat": 4,
 "nbformat_minor": 1
}
